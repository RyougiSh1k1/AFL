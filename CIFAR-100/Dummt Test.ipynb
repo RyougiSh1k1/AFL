{
 "cells": [
  {
   "cell_type": "code",
   "execution_count": 15,
   "id": "773969c9",
   "metadata": {},
   "outputs": [],
   "source": [
    "import torch\n",
    "import math\n",
    "import numpy as np"
   ]
  },
  {
   "cell_type": "code",
   "execution_count": 16,
   "id": "8722f7f9",
   "metadata": {},
   "outputs": [],
   "source": [
    "def aggregate(W,R,C):\n",
    "    if len(W) < 2:\n",
    "        print(\"No need to aggregate\")\n",
    "        return\n",
    "    Wt = (torch.eye(R[0].shape[0]).double()-R[0]@C[1]+R[0]@C[1]@torch.inverse(C[0]+C[1])@C[1])@W[0] + (torch.eye(R[0].shape[0]).double()-R[1]@C[0]+R[1]@C[0]@torch.inverse(C[0]+C[1])@C[0])@W[1]\n",
    "    Ct  = C[0]+C[1]\n",
    "    Rt = torch.pinverse(Ct)\n",
    "    for i in range(1,len(W)-1):\n",
    "        Wt = (torch.eye(R[0].shape[0]).double()-Rt@C[i+1]+Rt@C[i+1]@torch.inverse(Ct+C[i+1])@C[i+1])@Wt + (torch.eye(R[0].shape[0]).double()-R[i+1]@Ct+R[i+1]@Ct@torch.inverse(Ct+C[i+1])@Ct)@W[i+1]\n",
    "        Ct = Ct + C[i+1]\n",
    "        Rt = torch.pinverse(Ct)\n",
    "    return Wt, Ct"
   ]
  },
  {
   "cell_type": "code",
   "execution_count": 17,
   "id": "eb5b95d5",
   "metadata": {},
   "outputs": [],
   "source": [
    "def RI(W,C,nc,rg):\n",
    "    R_origin= torch.pinverse(C-nc*rg*torch.eye(512).double())\n",
    "    Wt = W+(nc*rg*R_origin)@W\n",
    "    return Wt"
   ]
  },
  {
   "cell_type": "code",
   "execution_count": 18,
   "id": "48d5ed07",
   "metadata": {},
   "outputs": [],
   "source": [
    "def generate_data():\n",
    "    X = torch.randn(10000,512).double()\n",
    "    Z_scalar = torch.randint(low=0, high=10, size=(10000,))\n",
    "    length = len(Z_scalar)\n",
    "    num_classes = Z_scalar.max().item() + 1\n",
    "    one_hot_matrix = torch.eye(num_classes)\n",
    "    Z = one_hot_matrix[Z_scalar].double()\n",
    "    return X, Z"
   ]
  },
  {
   "cell_type": "code",
   "execution_count": 19,
   "id": "7bf3ffd7",
   "metadata": {},
   "outputs": [],
   "source": [
    "def partition_data(X, Z, num_client):    \n",
    "    data_x = []\n",
    "    data_z = []\n",
    "    num_data_per_client = int(X.shape[0]/num_client)\n",
    "    for i in range(num_client):\n",
    "        data_x.append(X[i*num_data_per_client:(i+1)*num_data_per_client])\n",
    "        data_z.append(Z[i*num_data_per_client:(i+1)*num_data_per_client])\n",
    "    return data_x, data_z"
   ]
  },
  {
   "cell_type": "code",
   "execution_count": 20,
   "id": "ff4b14e9",
   "metadata": {},
   "outputs": [],
   "source": [
    "def training(data_x,data_z,num_client,rg):\n",
    "    C,CRg,R,RRg = [],[],[],[]\n",
    "    W, WRg = [], []\n",
    "    for i in range(num_client):\n",
    "        C.append(data_x[i].T@data_x[i])\n",
    "        R.append(torch.pinverse(C[i]))\n",
    "        CRg.append(data_x[i].T@data_x[i]+rg*torch.eye(512).double())\n",
    "        RRg.append(torch.pinverse(CRg[i]))\n",
    "    for i in range(num_client):\n",
    "        W.append(torch.pinverse(data_x[i])@data_z[i])\n",
    "        WRg.append(RRg[i]@data_x[i].T@data_z[i])\n",
    "    \n",
    "    return C,CRg,R,RRg,W, WRg"
   ]
  },
  {
   "cell_type": "code",
   "execution_count": 21,
   "id": "84978ba2",
   "metadata": {},
   "outputs": [],
   "source": [
    "def diff(W_agg,W_total):\n",
    "    return torch.sum(torch.abs(W_total-W_agg)).data"
   ]
  },
  {
   "cell_type": "code",
   "execution_count": 23,
   "id": "cb4e0c67",
   "metadata": {},
   "outputs": [
    {
     "name": "stdout",
     "output_type": "stream",
     "text": [
      "Run #0\n",
      "Client amount:2\n",
      "Difference between aggregation of weights with regularization with 2 clients in total:7.968852425263746e-14\n",
      "Difference between aggregation of weights via flipping regularization with 2 clients in total:4.9031221918062104e-14\n",
      "Client amount:10\n",
      "Difference between aggregation of weights with regularization with 10 clients in total:1.7735499856653524e-12\n",
      "Difference between aggregation of weights via flipping regularization with 10 clients in total:1.7689026911193637e-12\n",
      "Client amount:20\n",
      "Difference between aggregation of weights with regularization with 20 clients in total:0.966210706713434\n",
      "Difference between aggregation of weights via flipping regularization with 20 clients in total:5.074599091205582e-10\n",
      "Client amount:50\n",
      "Difference between aggregation of weights with regularization with 50 clients in total:5.937192917708385\n",
      "Difference between aggregation of weights via flipping regularization with 50 clients in total:8.552229799273888e-10\n",
      "Client amount:100\n",
      "Difference between aggregation of weights with regularization with 100 clients in total:20940.693229233784\n",
      "Difference between aggregation of weights via flipping regularization with 100 clients in total:7.521156147969471e-10\n",
      "Client amount:200\n",
      "Difference between aggregation of weights with regularization with 200 clients in total:18211434279719.55\n",
      "Difference between aggregation of weights via flipping regularization with 200 clients in total:7.792856227295021e-10\n",
      "Run #1\n",
      "Client amount:2\n",
      "Difference between aggregation of weights with regularization with 2 clients in total:7.759849756034179e-14\n",
      "Difference between aggregation of weights via flipping regularization with 2 clients in total:4.9966215848756975e-14\n",
      "Client amount:10\n",
      "Difference between aggregation of weights with regularization with 10 clients in total:1.7574308029894362e-12\n",
      "Difference between aggregation of weights via flipping regularization with 10 clients in total:1.758059641308269e-12\n",
      "Client amount:20\n",
      "Difference between aggregation of weights with regularization with 20 clients in total:1.0144884220215216\n",
      "Difference between aggregation of weights via flipping regularization with 20 clients in total:5.057563302913455e-10\n",
      "Client amount:50\n",
      "Difference between aggregation of weights with regularization with 50 clients in total:5.857274491599424\n",
      "Difference between aggregation of weights via flipping regularization with 50 clients in total:8.314829198556693e-10\n",
      "Client amount:100\n",
      "Difference between aggregation of weights with regularization with 100 clients in total:71707.00809081196\n",
      "Difference between aggregation of weights via flipping regularization with 100 clients in total:7.488060678025125e-10\n",
      "Client amount:200\n",
      "Difference between aggregation of weights with regularization with 200 clients in total:24050670.702671163\n",
      "Difference between aggregation of weights via flipping regularization with 200 clients in total:7.620909431347373e-10\n",
      "Run #2\n",
      "Client amount:2\n",
      "Difference between aggregation of weights with regularization with 2 clients in total:7.681136339498552e-14\n",
      "Difference between aggregation of weights via flipping regularization with 2 clients in total:4.802684571871262e-14\n",
      "Client amount:10\n",
      "Difference between aggregation of weights with regularization with 10 clients in total:1.7470246271497885e-12\n",
      "Difference between aggregation of weights via flipping regularization with 10 clients in total:1.7173356665389205e-12\n",
      "Client amount:20\n",
      "Difference between aggregation of weights with regularization with 20 clients in total:0.9728098819842845\n",
      "Difference between aggregation of weights via flipping regularization with 20 clients in total:5.09330509765816e-10\n",
      "Client amount:50\n",
      "Difference between aggregation of weights with regularization with 50 clients in total:5.983471069554989\n",
      "Difference between aggregation of weights via flipping regularization with 50 clients in total:8.363173444359757e-10\n",
      "Client amount:100\n",
      "Difference between aggregation of weights with regularization with 100 clients in total:12206.724990992356\n",
      "Difference between aggregation of weights via flipping regularization with 100 clients in total:7.549311216158758e-10\n",
      "Client amount:200\n",
      "Difference between aggregation of weights with regularization with 200 clients in total:141331841909.08893\n",
      "Difference between aggregation of weights via flipping regularization with 200 clients in total:7.846974968209576e-10\n",
      "Run #3\n",
      "Client amount:2\n",
      "Difference between aggregation of weights with regularization with 2 clients in total:7.852008634761341e-14\n",
      "Difference between aggregation of weights via flipping regularization with 2 clients in total:4.934058471429986e-14\n",
      "Client amount:10\n",
      "Difference between aggregation of weights with regularization with 10 clients in total:1.6984607147910342e-12\n",
      "Difference between aggregation of weights via flipping regularization with 10 clients in total:1.7255933145087375e-12\n",
      "Client amount:20\n",
      "Difference between aggregation of weights with regularization with 20 clients in total:0.9805992138198033\n",
      "Difference between aggregation of weights via flipping regularization with 20 clients in total:5.090374805806565e-10\n",
      "Client amount:50\n",
      "Difference between aggregation of weights with regularization with 50 clients in total:6.038459401914457\n",
      "Difference between aggregation of weights via flipping regularization with 50 clients in total:8.486118439322789e-10\n",
      "Client amount:100\n",
      "Difference between aggregation of weights with regularization with 100 clients in total:167202.445849169\n",
      "Difference between aggregation of weights via flipping regularization with 100 clients in total:7.648641473956742e-10\n",
      "Client amount:200\n",
      "Difference between aggregation of weights with regularization with 200 clients in total:6726455364.9654\n",
      "Difference between aggregation of weights via flipping regularization with 200 clients in total:7.889446021715809e-10\n",
      "Run #4\n",
      "Client amount:2\n",
      "Difference between aggregation of weights with regularization with 2 clients in total:7.876827716555429e-14\n",
      "Difference between aggregation of weights via flipping regularization with 2 clients in total:5.099551959246944e-14\n",
      "Client amount:10\n",
      "Difference between aggregation of weights with regularization with 10 clients in total:1.8044258036538363e-12\n",
      "Difference between aggregation of weights via flipping regularization with 10 clients in total:1.7242965943108847e-12\n",
      "Client amount:20\n",
      "Difference between aggregation of weights with regularization with 20 clients in total:0.946674992127785\n",
      "Difference between aggregation of weights via flipping regularization with 20 clients in total:5.14870695356855e-10\n",
      "Client amount:50\n",
      "Difference between aggregation of weights with regularization with 50 clients in total:6.053360711494908\n",
      "Difference between aggregation of weights via flipping regularization with 50 clients in total:8.532337225793882e-10\n",
      "Client amount:100\n",
      "Difference between aggregation of weights with regularization with 100 clients in total:24337.411000927477\n",
      "Difference between aggregation of weights via flipping regularization with 100 clients in total:7.662087947137158e-10\n",
      "Client amount:200\n",
      "Difference between aggregation of weights with regularization with 200 clients in total:726936064.5280988\n",
      "Difference between aggregation of weights via flipping regularization with 200 clients in total:7.908242867187671e-10\n"
     ]
    }
   ],
   "source": [
    "runs = 5\n",
    "rg = 1\n",
    "\n",
    "num_clients = [2, 10, 20, 50, 100, 200]\n",
    "diffs_1 = []\n",
    "diffs_2 = []\n",
    "for t in range(runs):\n",
    "    print(\"Run #{}\".format(t))\n",
    "    X, Z = generate_data()\n",
    "    \n",
    "    C_total = X.T@X\n",
    "    R_total = torch.pinverse(C_total)\n",
    "    iX = torch.pinverse(X)\n",
    "    W_total = iX@Z\n",
    "    \n",
    "    diff_per_run_1 = []\n",
    "    diff_per_run_2 = []\n",
    "    for num_client in num_clients:\n",
    "        print(\"Client amount:{}\".format(num_client))\n",
    "        data_x, data_z = partition_data(X, Z, num_client)\n",
    "        C,CRg,R,RRg,W, WRg = training(data_x,data_z,num_client,rg)\n",
    "        W_agg, _ = aggregate(W,R,C)\n",
    "        W_aggRg,C_aggRg = aggregate(WRg,RRg,CRg)\n",
    "        W_aggRg_flip = RI(W_aggRg,C_aggRg, num_client, rg)\n",
    "        diff1 = diff(W_agg, W_total)\n",
    "        diff2 = diff(W_aggRg_flip, W_total)\n",
    "        print(\"Difference between aggregation of weights with regularization with {} clients in total:{}\".format(num_client,diff1))\n",
    "        print(\"Difference between aggregation of weights via flipping regularization with {} clients in total:{}\".format(num_client,diff2))\n",
    "        diff_per_run_1.append(diff1)\n",
    "        diff_per_run_2.append(diff2)\n",
    "    diffs_1.append(diff_per_run_1)\n",
    "    diffs_2.append(diff_per_run_2)  \n",
    "    \n",
    "diffs_1 = np.array(diffs_1)\n",
    "diffs_2 = np.array(diffs_2)"
   ]
  },
  {
   "cell_type": "code",
   "execution_count": 25,
   "id": "cc58133f",
   "metadata": {},
   "outputs": [
    {
     "name": "stdout",
     "output_type": "stream",
     "text": [
      "[7.82773497e-14 1.75617839e-12 9.76156643e-01 5.97395172e+00\n",
      " 5.92788566e+04 3.67204871e+12]\n",
      "[4.94720776e-14 1.73883758e-12 5.09290985e-10 8.44973762e-10\n",
      " 7.57385149e-10 7.81168590e-10]\n"
     ]
    }
   ],
   "source": [
    "mean1 = np.mean(diffs_1,axis=0)\n",
    "mean2 = np.mean(diffs_2,axis=0)\n",
    "print(mean1)\n",
    "print(mean2)"
   ]
  },
  {
   "cell_type": "code",
   "execution_count": null,
   "id": "92a5e5af",
   "metadata": {},
   "outputs": [],
   "source": []
  }
 ],
 "metadata": {
  "kernelspec": {
   "display_name": "Python 3 (ipykernel)",
   "language": "python",
   "name": "python3"
  },
  "language_info": {
   "codemirror_mode": {
    "name": "ipython",
    "version": 3
   },
   "file_extension": ".py",
   "mimetype": "text/x-python",
   "name": "python",
   "nbconvert_exporter": "python",
   "pygments_lexer": "ipython3",
   "version": "3.9.13"
  }
 },
 "nbformat": 4,
 "nbformat_minor": 5
}
